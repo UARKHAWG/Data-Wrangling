{
 "cells": [
  {
   "cell_type": "markdown",
   "metadata": {
    "id": "m0G8Kv-MmaHh"
   },
   "source": [
    "# [Objective](#dates-and-times) Work with Dates and Times with Pandas"
   ]
  },
  {
   "cell_type": "markdown",
   "metadata": {
    "id": "565Xjo-RnvLm"
   },
   "source": [
    "## Overview\n",
    "\n",
    "Pandas has its own datetime data type that makes it extremely convenient to convert strings from standard date formats to datetime objects. You can then use those datetime objects to either create new features on a dataframe or work with those features as a time series. \n",
    "\n",
    "This section will demonstrate how to take a column of date strings, convert it to a datetime object and then use the datetime formatting `.dt` to access specific parts of the date (year, month, day) to generate useful columns in a dataframe."
   ]
  },
  {
   "cell_type": "markdown",
   "metadata": {
    "id": "YpoU_2Gknzbz"
   },
   "source": [
    "## Follow Along"
   ]
  },
  {
   "cell_type": "markdown",
   "metadata": {
    "id": "BoQ86d_R79J6"
   },
   "source": [
    "### Work with Dates \n",
    "\n",
    "pandas documentation\n",
    "- [to_datetime](https://pandas.pydata.org/pandas-docs/stable/generated/pandas.to_datetime.html)\n",
    "- [Time/Date Components](https://pandas.pydata.org/pandas-docs/stable/timeseries.html#time-date-components) \"You can access these properties via the `.dt` accessor\"\n",
    "\n"
   ]
  },
  {
   "cell_type": "markdown",
   "metadata": {
    "id": "4b8rbLFPd34s"
   },
   "source": [
    "We'll be working with the Loans dataset (which we will continue to use during the guided project).  To access the Loans dataset, run the next code block without changing anything:"
   ]
  },
  {
   "cell_type": "code",
   "execution_count": 2,
   "metadata": {
    "id": "4793LweyroFI"
   },
   "outputs": [
    {
     "name": "stdout",
     "output_type": "stream",
     "text": [
      "(30000, 144)\n"
     ]
    },
    {
     "data": {
      "text/html": [
       "<div>\n",
       "<style scoped>\n",
       "    .dataframe tbody tr th:only-of-type {\n",
       "        vertical-align: middle;\n",
       "    }\n",
       "\n",
       "    .dataframe tbody tr th {\n",
       "        vertical-align: top;\n",
       "    }\n",
       "\n",
       "    .dataframe thead th {\n",
       "        text-align: right;\n",
       "    }\n",
       "</style>\n",
       "<table border=\"1\" class=\"dataframe\">\n",
       "  <thead>\n",
       "    <tr style=\"text-align: right;\">\n",
       "      <th></th>\n",
       "      <th>id</th>\n",
       "      <th>member_id</th>\n",
       "      <th>loan_amnt</th>\n",
       "      <th>funded_amnt</th>\n",
       "      <th>funded_amnt_inv</th>\n",
       "      <th>term</th>\n",
       "      <th>int_rate</th>\n",
       "      <th>installment</th>\n",
       "      <th>grade</th>\n",
       "      <th>sub_grade</th>\n",
       "      <th>...</th>\n",
       "      <th>orig_projected_additional_accrued_interest</th>\n",
       "      <th>hardship_payoff_balance_amount</th>\n",
       "      <th>hardship_last_payment_amount</th>\n",
       "      <th>debt_settlement_flag</th>\n",
       "      <th>debt_settlement_flag_date</th>\n",
       "      <th>settlement_status</th>\n",
       "      <th>settlement_date</th>\n",
       "      <th>settlement_amount</th>\n",
       "      <th>settlement_percentage</th>\n",
       "      <th>settlement_term</th>\n",
       "    </tr>\n",
       "  </thead>\n",
       "  <tbody>\n",
       "    <tr>\n",
       "      <th>0</th>\n",
       "      <td>NaN</td>\n",
       "      <td>NaN</td>\n",
       "      <td>5525</td>\n",
       "      <td>5525</td>\n",
       "      <td>5525.0</td>\n",
       "      <td>36 months</td>\n",
       "      <td>10.72%</td>\n",
       "      <td>180.15</td>\n",
       "      <td>B</td>\n",
       "      <td>B2</td>\n",
       "      <td>...</td>\n",
       "      <td>NaN</td>\n",
       "      <td>NaN</td>\n",
       "      <td>NaN</td>\n",
       "      <td>N</td>\n",
       "      <td>NaN</td>\n",
       "      <td>NaN</td>\n",
       "      <td>NaN</td>\n",
       "      <td>NaN</td>\n",
       "      <td>NaN</td>\n",
       "      <td>NaN</td>\n",
       "    </tr>\n",
       "    <tr>\n",
       "      <th>1</th>\n",
       "      <td>NaN</td>\n",
       "      <td>NaN</td>\n",
       "      <td>10000</td>\n",
       "      <td>10000</td>\n",
       "      <td>10000.0</td>\n",
       "      <td>36 months</td>\n",
       "      <td>10.08%</td>\n",
       "      <td>323.05</td>\n",
       "      <td>B</td>\n",
       "      <td>B1</td>\n",
       "      <td>...</td>\n",
       "      <td>NaN</td>\n",
       "      <td>NaN</td>\n",
       "      <td>NaN</td>\n",
       "      <td>N</td>\n",
       "      <td>NaN</td>\n",
       "      <td>NaN</td>\n",
       "      <td>NaN</td>\n",
       "      <td>NaN</td>\n",
       "      <td>NaN</td>\n",
       "      <td>NaN</td>\n",
       "    </tr>\n",
       "    <tr>\n",
       "      <th>2</th>\n",
       "      <td>NaN</td>\n",
       "      <td>NaN</td>\n",
       "      <td>12000</td>\n",
       "      <td>12000</td>\n",
       "      <td>12000.0</td>\n",
       "      <td>60 months</td>\n",
       "      <td>10.08%</td>\n",
       "      <td>255.44</td>\n",
       "      <td>B</td>\n",
       "      <td>B1</td>\n",
       "      <td>...</td>\n",
       "      <td>NaN</td>\n",
       "      <td>NaN</td>\n",
       "      <td>NaN</td>\n",
       "      <td>N</td>\n",
       "      <td>NaN</td>\n",
       "      <td>NaN</td>\n",
       "      <td>NaN</td>\n",
       "      <td>NaN</td>\n",
       "      <td>NaN</td>\n",
       "      <td>NaN</td>\n",
       "    </tr>\n",
       "    <tr>\n",
       "      <th>3</th>\n",
       "      <td>NaN</td>\n",
       "      <td>NaN</td>\n",
       "      <td>20000</td>\n",
       "      <td>20000</td>\n",
       "      <td>20000.0</td>\n",
       "      <td>36 months</td>\n",
       "      <td>6.46%</td>\n",
       "      <td>612.62</td>\n",
       "      <td>A</td>\n",
       "      <td>A1</td>\n",
       "      <td>...</td>\n",
       "      <td>NaN</td>\n",
       "      <td>NaN</td>\n",
       "      <td>NaN</td>\n",
       "      <td>N</td>\n",
       "      <td>NaN</td>\n",
       "      <td>NaN</td>\n",
       "      <td>NaN</td>\n",
       "      <td>NaN</td>\n",
       "      <td>NaN</td>\n",
       "      <td>NaN</td>\n",
       "    </tr>\n",
       "    <tr>\n",
       "      <th>4</th>\n",
       "      <td>NaN</td>\n",
       "      <td>NaN</td>\n",
       "      <td>12000</td>\n",
       "      <td>12000</td>\n",
       "      <td>12000.0</td>\n",
       "      <td>36 months</td>\n",
       "      <td>7.02%</td>\n",
       "      <td>370.64</td>\n",
       "      <td>A</td>\n",
       "      <td>A2</td>\n",
       "      <td>...</td>\n",
       "      <td>NaN</td>\n",
       "      <td>NaN</td>\n",
       "      <td>NaN</td>\n",
       "      <td>N</td>\n",
       "      <td>NaN</td>\n",
       "      <td>NaN</td>\n",
       "      <td>NaN</td>\n",
       "      <td>NaN</td>\n",
       "      <td>NaN</td>\n",
       "      <td>NaN</td>\n",
       "    </tr>\n",
       "  </tbody>\n",
       "</table>\n",
       "<p>5 rows × 144 columns</p>\n",
       "</div>"
      ],
      "text/plain": [
       "   id  member_id  loan_amnt  funded_amnt  funded_amnt_inv        term  \\\n",
       "0 NaN        NaN       5525         5525           5525.0   36 months   \n",
       "1 NaN        NaN      10000        10000          10000.0   36 months   \n",
       "2 NaN        NaN      12000        12000          12000.0   60 months   \n",
       "3 NaN        NaN      20000        20000          20000.0   36 months   \n",
       "4 NaN        NaN      12000        12000          12000.0   36 months   \n",
       "\n",
       "  int_rate  installment grade sub_grade  ...  \\\n",
       "0   10.72%       180.15     B        B2  ...   \n",
       "1   10.08%       323.05     B        B1  ...   \n",
       "2   10.08%       255.44     B        B1  ...   \n",
       "3    6.46%       612.62     A        A1  ...   \n",
       "4    7.02%       370.64     A        A2  ...   \n",
       "\n",
       "  orig_projected_additional_accrued_interest hardship_payoff_balance_amount  \\\n",
       "0                                        NaN                            NaN   \n",
       "1                                        NaN                            NaN   \n",
       "2                                        NaN                            NaN   \n",
       "3                                        NaN                            NaN   \n",
       "4                                        NaN                            NaN   \n",
       "\n",
       "  hardship_last_payment_amount  debt_settlement_flag  \\\n",
       "0                          NaN                     N   \n",
       "1                          NaN                     N   \n",
       "2                          NaN                     N   \n",
       "3                          NaN                     N   \n",
       "4                          NaN                     N   \n",
       "\n",
       "  debt_settlement_flag_date settlement_status settlement_date  \\\n",
       "0                       NaN               NaN             NaN   \n",
       "1                       NaN               NaN             NaN   \n",
       "2                       NaN               NaN             NaN   \n",
       "3                       NaN               NaN             NaN   \n",
       "4                       NaN               NaN             NaN   \n",
       "\n",
       "  settlement_amount  settlement_percentage  settlement_term  \n",
       "0               NaN                    NaN              NaN  \n",
       "1               NaN                    NaN              NaN  \n",
       "2               NaN                    NaN              NaN  \n",
       "3               NaN                    NaN              NaN  \n",
       "4               NaN                    NaN              NaN  \n",
       "\n",
       "[5 rows x 144 columns]"
      ]
     },
     "execution_count": 2,
     "metadata": {},
     "output_type": "execute_result"
    }
   ],
   "source": [
    "import pandas as pd\n",
    "\n",
    "\n",
    "loans_data = 'https://raw.githubusercontent.com/LambdaSchool/data-science-practice-datasets/main/unit_1/LendingClub/LoanStats_2018Q4_sm.csv'\n",
    "loans = pd.read_csv(loans_data)\n",
    "\n",
    "print(loans.shape)\n",
    "loans.head()"
   ]
  },
  {
   "cell_type": "markdown",
   "metadata": {
    "id": "JJkUZ5g4fxPH"
   },
   "source": [
    "For this warm-up assignment, we are going to determine the length of credit history for the individuals in the Loans dataset we just imported.\n",
    "\n",
    "To do this, we are going to need two date values: `issue_d` and `earliest_cr_line`.  "
   ]
  },
  {
   "cell_type": "markdown",
   "metadata": {
    "id": "7wccaSfx9Zo4"
   },
   "source": [
    "- Lets look at the string format of the `issue_d` column"
   ]
  },
  {
   "cell_type": "code",
   "execution_count": 3,
   "metadata": {
    "id": "BVYeLIOm9dQ-"
   },
   "outputs": [
    {
     "data": {
      "text/plain": [
       "0    Dec-2018\n",
       "1    Oct-2018\n",
       "2    Oct-2018\n",
       "3    Nov-2018\n",
       "4    Dec-2018\n",
       "Name: issue_d, dtype: object"
      ]
     },
     "execution_count": 3,
     "metadata": {},
     "output_type": "execute_result"
    }
   ],
   "source": [
    "#Print out the values in the column for issue_d\n",
    "loans['issue_d'].head()\n"
   ]
  },
  {
   "cell_type": "markdown",
   "metadata": {},
   "source": [
    "<details>\n",
    "<summary style=\"display:list-item\">Answer </summary>\n",
    "    \n",
    "    loans['issue_d'].head()\n",
    "    \n",
    "\n",
    "</details>\n"
   ]
  },
  {
   "cell_type": "code",
   "execution_count": 4,
   "metadata": {
    "id": "cBV3Ta_79qe6"
   },
   "outputs": [
    {
     "data": {
      "text/plain": [
       "'Dec-2018'"
      ]
     },
     "execution_count": 4,
     "metadata": {},
     "output_type": "execute_result"
    }
   ],
   "source": [
    "#Print the first observation of issue_d using list indexing.\n",
    "loans['issue_d'][0]\n",
    "\n"
   ]
  },
  {
   "cell_type": "markdown",
   "metadata": {},
   "source": [
    "<details>\n",
    "<summary style=\"display:list-item\">Answer </summary>\n",
    "    \n",
    "    loans['issue_d'][0]\n",
    "    \n",
    "\n",
    "</details>\n"
   ]
  },
  {
   "cell_type": "markdown",
   "metadata": {
    "id": "DnjOcU5y9iZh"
   },
   "source": [
    "#### Because this string format %m-%y is a common datetime format, we can just let Pandas detect this format and translate it to the appropriate datetime object."
   ]
  },
  {
   "cell_type": "markdown",
   "metadata": {
    "id": "6hcypFMu9y4s"
   },
   "source": [
    "- Now let's apply the pd.to_datetime function to `issue_d`.  "
   ]
  },
  {
   "cell_type": "code",
   "execution_count": 5,
   "metadata": {
    "id": "fUMjhnyJ94is"
   },
   "outputs": [
    {
     "data": {
      "text/plain": [
       "0       2018-12-01\n",
       "1       2018-10-01\n",
       "2       2018-10-01\n",
       "3       2018-11-01\n",
       "4       2018-12-01\n",
       "           ...    \n",
       "29995   2018-12-01\n",
       "29996   2018-10-01\n",
       "29997   2018-10-01\n",
       "29998   2018-10-01\n",
       "29999   2018-12-01\n",
       "Name: issue_d, Length: 30000, dtype: datetime64[ns]"
      ]
     },
     "execution_count": 5,
     "metadata": {},
     "output_type": "execute_result"
    }
   ],
   "source": [
    "#Print issue_d as a datetime value using\n",
    "pd.to_datetime(loans['issue_d'])"
   ]
  },
  {
   "cell_type": "markdown",
   "metadata": {},
   "source": [
    "<details>\n",
    "<summary style=\"display:list-item\">Answer </summary>\n",
    "     pd.to_datetime(loans['issue_d'])\n",
    "\n",
    "</details>\n"
   ]
  },
  {
   "cell_type": "markdown",
   "metadata": {
    "id": "aZQiLh4O-CMN"
   },
   "source": [
    "<details>\n",
    "<summary style=\"display:list-item\">What do you notice about how Pandas handles the days of the month? </summary>\n",
    "    Returns the first day of every month. \n",
    "\n",
    "</details>"
   ]
  },
  {
   "cell_type": "markdown",
   "metadata": {
    "id": "aqUONaG8g6uk"
   },
   "source": [
    "- Assign the values of `issue_d` in the datetime format to a new column in `loans` called `issue_date`."
   ]
  },
  {
   "cell_type": "code",
   "execution_count": 7,
   "metadata": {
    "id": "6_PhaWzb-J7X"
   },
   "outputs": [
    {
     "data": {
      "text/plain": [
       "0       2018-12-01\n",
       "1       2018-10-01\n",
       "2       2018-10-01\n",
       "3       2018-11-01\n",
       "4       2018-12-01\n",
       "           ...    \n",
       "29995   2018-12-01\n",
       "29996   2018-10-01\n",
       "29997   2018-10-01\n",
       "29998   2018-10-01\n",
       "29999   2018-12-01\n",
       "Name: issue_date, Length: 30000, dtype: datetime64[ns]"
      ]
     },
     "execution_count": 7,
     "metadata": {},
     "output_type": "execute_result"
    }
   ],
   "source": [
    "#Create issue_date column\n",
    "loans['issue_date'] = pd.to_datetime(loans['issue_d'])\n",
    "loans['issue_date']"
   ]
  },
  {
   "cell_type": "markdown",
   "metadata": {},
   "source": [
    "<details>\n",
    "<summary style=\"display:list-item\">Answer </summary>\n",
    "     loans['issue_date'] = pd.to_datetime(loans['issue_d'])\n",
    "\n",
    "</details>\n"
   ]
  },
  {
   "cell_type": "markdown",
   "metadata": {
    "id": "V3rKmrzY-NsD"
   },
   "source": [
    "We can use the `.dt` accessor to now grab specific parts of the datetime object. Lets grab just the year from the all of the cells in the `issue_date` column"
   ]
  },
  {
   "cell_type": "code",
   "execution_count": 8,
   "metadata": {
    "id": "y4479qzj-Yj5"
   },
   "outputs": [
    {
     "data": {
      "text/plain": [
       "0        2018\n",
       "1        2018\n",
       "2        2018\n",
       "3        2018\n",
       "4        2018\n",
       "         ... \n",
       "29995    2018\n",
       "29996    2018\n",
       "29997    2018\n",
       "29998    2018\n",
       "29999    2018\n",
       "Name: issue_date, Length: 30000, dtype: int64"
      ]
     },
     "execution_count": 8,
     "metadata": {},
     "output_type": "execute_result"
    }
   ],
   "source": [
    "#Print only the year values from the issue_date column\n",
    "loans['issue_date'].dt.year"
   ]
  },
  {
   "cell_type": "markdown",
   "metadata": {},
   "source": [
    "<details>\n",
    "<summary style=\"display:list-item\">Answer </summary>\n",
    "     loans['issue_date'].dt.year\n",
    "\n",
    "</details>\n"
   ]
  },
  {
   "cell_type": "code",
   "execution_count": 39,
   "metadata": {
    "id": "D28keYR3-dJn"
   },
   "outputs": [],
   "source": [
    "#Output only the month values from the issue_date column\n",
    "loans['issue_date'].dt.month\n"
   ]
  },
  {
   "cell_type": "markdown",
   "metadata": {},
   "source": [
    "<details>\n",
    "<summary style=\"display:list-item\">Answer </summary>\n",
    "     loans['issue_date'].dt.month\n",
    "\n",
    "</details>\n"
   ]
  },
  {
   "cell_type": "code",
   "execution_count": 9,
   "metadata": {},
   "outputs": [
    {
     "data": {
      "text/plain": [
       "0        1\n",
       "1        1\n",
       "2        1\n",
       "3        1\n",
       "4        1\n",
       "        ..\n",
       "29995    1\n",
       "29996    1\n",
       "29997    1\n",
       "29998    1\n",
       "29999    1\n",
       "Name: issue_date, Length: 30000, dtype: int64"
      ]
     },
     "execution_count": 9,
     "metadata": {},
     "output_type": "execute_result"
    }
   ],
   "source": [
    "loans['issue_date'].dt.day"
   ]
  },
  {
   "cell_type": "markdown",
   "metadata": {
    "id": "g4_O0q0t-hOX"
   },
   "source": [
    "It's just that easy! Now, instead of printing them out, lets add these year and month values as new columns on our dataframe.  \n",
    "- Name the year variable `issue_year` and the month variable `issue_month`. Again, you'll have to scroll all the way over to the right in the table to see the new columns."
   ]
  },
  {
   "cell_type": "code",
   "execution_count": 41,
   "metadata": {
    "id": "VJdlhqH1-mri"
   },
   "outputs": [],
   "source": [
    "#Create issue_year and issue_month columns\n",
    "loans['issue_month'] = loans['issue_date'].dt.month\n",
    "loans['issue_year'] = loans['issue_date'].dt.year"
   ]
  },
  {
   "cell_type": "markdown",
   "metadata": {},
   "source": [
    "<details>\n",
    "<summary style=\"display:list-item\">Answer </summary>\n",
    "    issue_year = loans['issue_date'].dt.year\n",
    "    <br>\n",
    "    issue_month = loans['issue_date'].dt.month\n",
    "\n",
    "</details>\n"
   ]
  },
  {
   "cell_type": "markdown",
   "metadata": {
    "id": "LAxig0nE-1kt"
   },
   "source": [
    "- Now let's look at the `earliest_cr_line` column, which is also a string, but that could be converted to datetime format.\n"
   ]
  },
  {
   "cell_type": "code",
   "execution_count": 43,
   "metadata": {
    "id": "5S6BDZjp-e8-"
   },
   "outputs": [],
   "source": [
    "#Print the dates for the earliest_cr_line column \n",
    "loans['earliest_cr_line']\n"
   ]
  },
  {
   "cell_type": "markdown",
   "metadata": {},
   "source": [
    "<details>\n",
    "<summary style=\"display:list-item\">Answer </summary>\n",
    "     loans['earliest_cr_line'].head()\n",
    "\n",
    "</details>\n"
   ]
  },
  {
   "cell_type": "markdown",
   "metadata": {
    "id": "z7HSJ1pYjX4e"
   },
   "source": [
    "- Convert `earliest_cr_line` to a datetime format using pd.to_datetime and assign the result to the column `earliest_credit`."
   ]
  },
  {
   "cell_type": "code",
   "execution_count": 10,
   "metadata": {
    "id": "Lf9nCJdYjL4W"
   },
   "outputs": [
    {
     "data": {
      "text/plain": [
       "0       1998-10-01\n",
       "1       2015-09-01\n",
       "2       2003-06-01\n",
       "3       2005-02-01\n",
       "4       2008-02-01\n",
       "           ...    \n",
       "29995   2000-01-01\n",
       "29996   1985-09-01\n",
       "29997   2007-12-01\n",
       "29998   2008-04-01\n",
       "29999   1991-04-01\n",
       "Name: earliest_credit, Length: 30000, dtype: datetime64[ns]"
      ]
     },
     "execution_count": 10,
     "metadata": {},
     "output_type": "execute_result"
    }
   ],
   "source": [
    "#Create the earliest_credit column.\n",
    "loans['earliest_credit'] = pd.to_datetime(loans['earliest_cr_line'])\n",
    "loans['earliest_credit']"
   ]
  },
  {
   "cell_type": "markdown",
   "metadata": {},
   "source": [
    "<details>\n",
    "<summary style=\"display:list-item\">Answer </summary>\n",
    "     loans['earliest_credit'] = pd.to_datetime(loans['earliest_credit_line'])\n",
    "\n",
    "</details>\n"
   ]
  },
  {
   "cell_type": "markdown",
   "metadata": {
    "id": "8aQ7jrtfjyEk"
   },
   "source": [
    "- Determine the length of credit history in days by subtracting `earliest_credit` from `issue_date`.  Save the result as a column called `credit_length_days`. \n",
    "\n",
    "*Hint:* You will have to convert your results to intergers using `dt.days` "
   ]
  },
  {
   "cell_type": "code",
   "execution_count": 14,
   "metadata": {
    "id": "tRWE2SXZe8mA"
   },
   "outputs": [
    {
     "data": {
      "text/plain": [
       "0         7366\n",
       "1         1126\n",
       "2         5601\n",
       "3         5021\n",
       "4         3956\n",
       "         ...  \n",
       "29995     6909\n",
       "29996    12083\n",
       "29997     3957\n",
       "29998     3835\n",
       "29999    10106\n",
       "Name: credit_length_days, Length: 30000, dtype: int64"
      ]
     },
     "execution_count": 14,
     "metadata": {},
     "output_type": "execute_result"
    }
   ],
   "source": [
    "#Calculate the length of credit history in days. \n",
    "loans['credit_length_days'] = (loans['issue_date'] - loans['earliest_credit']).dt.days\n",
    "loans['credit_length_days']\n"
   ]
  },
  {
   "cell_type": "markdown",
   "metadata": {},
   "source": [
    "<details>\n",
    "<summary style=\"display:list-item\">Answer </summary>\n",
    "    loans['credit_length_days'] = (loans['issue_date'] - loans['earliest_credit']).dt.days\n",
    "\n",
    "\n",
    "</details>\n"
   ]
  },
  {
   "cell_type": "markdown",
   "metadata": {
    "id": "LKjAq0qCl9pM"
   },
   "source": [
    "- Divide the credit length in days by 365.25 (don't forget leap year!) and save the result as a column called `credit_length_years`."
   ]
  },
  {
   "cell_type": "code",
   "execution_count": 16,
   "metadata": {},
   "outputs": [
    {
     "data": {
      "text/plain": [
       "0        20.167009\n",
       "1         3.082820\n",
       "2        15.334702\n",
       "3        13.746749\n",
       "4        10.830938\n",
       "           ...    \n",
       "29995    18.915811\n",
       "29996    33.081451\n",
       "29997    10.833676\n",
       "29998    10.499658\n",
       "29999    27.668720\n",
       "Name: credit_length_years, Length: 30000, dtype: float64"
      ]
     },
     "execution_count": 16,
     "metadata": {},
     "output_type": "execute_result"
    }
   ],
   "source": [
    "#Calculate length of loan in years\n",
    "loans['credit_length_years'] = loans['credit_length_days'] / 365.25\n",
    "loans['credit_length_years']"
   ]
  },
  {
   "cell_type": "markdown",
   "metadata": {
    "id": "FWu1a57V_cHx"
   },
   "source": [
    "<details>\n",
    "<summary style=\"display:list-item\">Answer </summary>\n",
    "     loans['credit_length_years'] = loans['credit_length_days']/365.25\n",
    "\n",
    "</details>\n"
   ]
  },
  {
   "cell_type": "markdown",
   "metadata": {
    "id": "ml-N769C_e_n"
   },
   "source": [
    "Use the .max() function to determine the longest credit history in years."
   ]
  },
  {
   "cell_type": "code",
   "execution_count": 17,
   "metadata": {},
   "outputs": [
    {
     "data": {
      "text/plain": [
       "68.91444216290212"
      ]
     },
     "execution_count": 17,
     "metadata": {},
     "output_type": "execute_result"
    }
   ],
   "source": [
    "#Calculate longest longest credit history in years\n",
    "loans['credit_length_years'].max()"
   ]
  },
  {
   "cell_type": "markdown",
   "metadata": {
    "id": "FWu1a57V_cHx"
   },
   "source": [
    "<details>\n",
    "<summary style=\"display:list-item\">Answer </summary>\n",
    "     loans['credit_length_years'].max()\n",
    "\n",
    "</details>\n"
   ]
  },
  {
   "cell_type": "code",
   "execution_count": null,
   "metadata": {},
   "outputs": [],
   "source": []
  }
 ],
 "metadata": {
  "colab": {
   "authorship_tag": "ABX9TyMvLAQ9NiB8Fxukaap63jco",
   "collapsed_sections": [],
   "name": "Date-time warmup.ipynb",
   "provenance": []
  },
  "kernelspec": {
   "display_name": "Python 3.8.13 ('datascience')",
   "language": "python",
   "name": "python3"
  },
  "language_info": {
   "codemirror_mode": {
    "name": "ipython",
    "version": 3
   },
   "file_extension": ".py",
   "mimetype": "text/x-python",
   "name": "python",
   "nbconvert_exporter": "python",
   "pygments_lexer": "ipython3",
   "version": "3.8.13"
  },
  "vscode": {
   "interpreter": {
    "hash": "38678483988d6aef1b2ae6a777ffa9391823d72da5ae33b583aaacb9f174d266"
   }
  }
 },
 "nbformat": 4,
 "nbformat_minor": 1
}
