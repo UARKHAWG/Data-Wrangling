{
 "cells": [
  {
   "cell_type": "markdown",
   "id": "1adef5c8",
   "metadata": {},
   "source": [
    "\n",
    "# Introduction to Python"
   ]
  },
  {
   "cell_type": "markdown",
   "id": "8c9755c2",
   "metadata": {},
   "source": [
    "> - Objective 01 - Submit Assignments and Save Work via Canvas\n",
    "> - Objective 02 - Working with Canvas, Colab, and Class Tools\n",
    "> - Objective 03 - Determine and describe Python datatypes\n",
    "> - Objective 04 - Understand Python Syntax, Loops and Conditionals\n",
    "\n"
   ]
  },
  {
   "cell_type": "markdown",
   "id": "40f820a3",
   "metadata": {},
   "source": [
    "# Working with Canvas and Colab"
   ]
  },
  {
   "cell_type": "markdown",
   "id": "4904bfd2",
   "metadata": {},
   "source": [
    "## Overview\n",
    "\n",
    "We will use Canvas, Colab and CodeGrade to work on, submit and evaluate projects.\n",
    "\n",
    "**Canvas** is a learning management system you that provides extra information you can use to help prepare for Guided Projects and as a resource when you are working on your individual sproject each afternoon.  \n",
    "\n",
    "**GitHub** is where the notebook for your Module Project is located. \n",
    "\n",
    "**Colab** (where you are right now) is the web-based notebook we will use for working on guided and module projects and sprint challenges.\n",
    "\n",
    "**CodeGrade** is the system that will evaluate your module projects and all your Sprint Challenges.\n",
    "\n",
    "**You will  access to and submit your module projects and sprint challenges in Canvas.**"
   ]
  },
  {
   "cell_type": "markdown",
   "id": "2719bccc",
   "metadata": {},
   "source": [
    "### 1) Open Canvas and navigate to the course for the sprint we are currently in.\n",
    "\n",
    "In this case, it is **Introduction to Python DS1.1 DSXX** where XX is your cohort number.\n",
    "\n",
    "\n",
    "The course will automatically open to the Overview page were you can take a look at all of the concepts we'll be covering throughout the Sprint.  Click on the links to see what will be covered in each module.\n",
    "\n",
    "When you click on Modules on the left hand side, you'll see content for each module divided into three sections:\n",
    "* Warmup is an intro to what will be covered during Guided Project\n",
    "* Engage is where you'll see the module project, the check for understanding, and pulse check.\n",
    "* Review is where you can find links to previous class recordings."
   ]
  },
  {
   "cell_type": "markdown",
   "id": "37eb5477",
   "metadata": {},
   "source": [
    "### 2) How to access the Guided and Module Project from Canvas:\n",
    "\n",
    "Under **Engage** in Canvas, click on the **Module # Project** link. This will direct you to Github. \n",
    "\n",
    "The files that we will be working with primarily during the course have the file extension: .ipynb for \"IPython Notebook\" any of these are notebooks that we can open in Google Colab or Jupyter Notebook.\n",
    "\n",
    "You will find all lecture materials and your daily assignments in the Github repositories. "
   ]
  },
  {
   "cell_type": "markdown",
   "id": "f04cf99d",
   "metadata": {},
   "source": [
    "### 3) Install the following Google Chrome extension. This will open any .ipynb file from GitHub directly in Google Colab: \n",
    "\n",
    "[Google Chrome Extension to Open .ipynb files easily in Google Colab](https://chrome.google.com/webstore/detail/open-in-colab/iogfkhleblhcpcekbiedikdehleodpjo?hl=en)\n",
    "\n",
    "When open in in Google Colab, go to **File** --> **\"Save a Copy in Drive\"**"
   ]
  },
  {
   "cell_type": "markdown",
   "id": "78ff3be5",
   "metadata": {},
   "source": [
    "### 4) Upload your daily project to CodeGrade\n",
    "Under **Module Project**, click **Load Module Project in a new window** to submit your work. "
   ]
  },
  {
   "cell_type": "markdown",
   "id": "21164afa",
   "metadata": {},
   "source": [
    "# What is Python?"
   ]
  },
  {
   "cell_type": "markdown",
   "id": "ed02dbf4",
   "metadata": {},
   "source": [
    "From the [source](https://www.python.org/doc/essays/blurb/):\n",
    "\n",
    "\"Python is an interpreted, object-oriented, high-level programming language with dynamic semantics. Its high-level built-in data structures, combined with dynamic typing and dynamic binding, make it very attractive for Rapid Application Development, as well as for use as a scripting or glue language to connect existing components together. Python's simple, easy to learn syntax emphasizes readability and therefore reduces the cost of program maintenance. Python supports modules and packages, which encourages program modularity and code reuse. The Python interpreter and the extensive standard library are available in source or binary form without charge for all major platforms, and can be freely distributed.\"\n"
   ]
  },
  {
   "cell_type": "markdown",
   "id": "db87a2de",
   "metadata": {},
   "source": [
    "# Python and Notebooks (Colab or Jupyter) \n",
    "\n",
    "We will be using Colab for Unit 1. Colab is a Jupyter Notebook environment that runs on the cloud and stores files in your Google Drive. "
   ]
  },
  {
   "cell_type": "code",
   "execution_count": 5,
   "id": "5b65aca3",
   "metadata": {},
   "outputs": [
    {
     "data": {
      "text/plain": [
       "'Hello'"
      ]
     },
     "execution_count": 5,
     "metadata": {},
     "output_type": "execute_result"
    }
   ],
   "source": [
    "#run the following cell by clicking on the play button next to this text\n",
    "\"Hello\""
   ]
  },
  {
   "cell_type": "code",
   "execution_count": 6,
   "id": "6997ad18",
   "metadata": {},
   "outputs": [
    {
     "data": {
      "text/plain": [
       "4"
      ]
     },
     "execution_count": 6,
     "metadata": {},
     "output_type": "execute_result"
    }
   ],
   "source": [
    "#run the following cell by clicking Shift + Return\n",
    "2+2"
   ]
  },
  {
   "cell_type": "markdown",
   "id": "495fe2fe",
   "metadata": {},
   "source": [
    "## Embrace the keyboard shortcuts: \n",
    "- Press 'esc' to enter navigation mode. \n",
    "- The keys 'a' and 'b' create code cells above and below your current cell when in navigation mode. \n",
    "- Click on the 'Tools' tab above to see additional short-cuts.\n",
    "- It's okay to use your mouse. You'll learn to code like a speedster with practice!"
   ]
  },
  {
   "cell_type": "markdown",
   "id": "95419091",
   "metadata": {
    "id": "mVRsE75BQTQT"
   },
   "source": [
    "## What is a Python Object? "
   ]
  },
  {
   "cell_type": "code",
   "execution_count": 7,
   "id": "38d0c5e2",
   "metadata": {
    "id": "aBaNkvRSQW1f"
   },
   "outputs": [],
   "source": [
    "x = 2\n"
   ]
  },
  {
   "cell_type": "code",
   "execution_count": 8,
   "id": "29138b15",
   "metadata": {
    "id": "_g-c5FgISFTV"
   },
   "outputs": [],
   "source": [
    "y = 7"
   ]
  },
  {
   "cell_type": "code",
   "execution_count": 9,
   "id": "895a1d1a",
   "metadata": {
    "id": "vDxsIEOSQX4_"
   },
   "outputs": [
    {
     "data": {
      "text/plain": [
       "9"
      ]
     },
     "execution_count": 9,
     "metadata": {},
     "output_type": "execute_result"
    }
   ],
   "source": [
    "x + y\n"
   ]
  },
  {
   "cell_type": "code",
   "execution_count": 10,
   "id": "5f26f117",
   "metadata": {
    "id": "4HmpQbqJQbdq"
   },
   "outputs": [
    {
     "name": "stdout",
     "output_type": "stream",
     "text": [
      "Hello World\n"
     ]
    },
    {
     "data": {
      "text/plain": [
       "'hello world'"
      ]
     },
     "execution_count": 10,
     "metadata": {},
     "output_type": "execute_result"
    }
   ],
   "source": [
    "#What are built-in functions? \n",
    "print(\"Hello World\")\n",
    "'hello world'"
   ]
  },
  {
   "cell_type": "code",
   "execution_count": 11,
   "id": "a35187dd",
   "metadata": {
    "id": "MAr6vWZuSRH7"
   },
   "outputs": [
    {
     "name": "stdout",
     "output_type": "stream",
     "text": [
      "2\n"
     ]
    },
    {
     "data": {
      "text/plain": [
       "7"
      ]
     },
     "execution_count": 11,
     "metadata": {},
     "output_type": "execute_result"
    }
   ],
   "source": [
    "#The print statement?\n",
    "\n",
    "#Difference between output and print statement.\n",
    "\n",
    "#What happens when you include a print statement next to the y object? \n",
    "print(x)\n",
    "y"
   ]
  },
  {
   "cell_type": "markdown",
   "id": "1004e67f",
   "metadata": {
    "id": "cNNIbyd7YAHM"
   },
   "source": [
    "## Operators"
   ]
  },
  {
   "cell_type": "code",
   "execution_count": 12,
   "id": "07abe276",
   "metadata": {
    "id": "EKqBUjuEYBXs"
   },
   "outputs": [
    {
     "data": {
      "text/plain": [
       "(9, 'The King!')"
      ]
     },
     "execution_count": 12,
     "metadata": {},
     "output_type": "execute_result"
    }
   ],
   "source": [
    "#+\n",
    "(x + y),(\"The \"+\"King!\") \n"
   ]
  },
  {
   "cell_type": "code",
   "execution_count": 13,
   "id": "06bd8490",
   "metadata": {
    "id": "VzIWW4W3YDDQ"
   },
   "outputs": [
    {
     "data": {
      "text/plain": [
       "-5"
      ]
     },
     "execution_count": 13,
     "metadata": {},
     "output_type": "execute_result"
    }
   ],
   "source": [
    "#- \n",
    "(x - y)"
   ]
  },
  {
   "cell_type": "code",
   "execution_count": 14,
   "id": "340c0445",
   "metadata": {
    "id": "pFE4BkgFYGl6"
   },
   "outputs": [
    {
     "data": {
      "text/plain": [
       "14"
      ]
     },
     "execution_count": 14,
     "metadata": {},
     "output_type": "execute_result"
    }
   ],
   "source": [
    "#*\n",
    "x * y "
   ]
  },
  {
   "cell_type": "code",
   "execution_count": 15,
   "id": "048c8c4f",
   "metadata": {
    "id": "LXqQIa6WYIUl"
   },
   "outputs": [
    {
     "name": "stdout",
     "output_type": "stream",
     "text": [
      "0.2857142857142857\n"
     ]
    },
    {
     "data": {
      "text/plain": [
       "3.5"
      ]
     },
     "execution_count": 15,
     "metadata": {},
     "output_type": "execute_result"
    }
   ],
   "source": [
    "#/\n",
    "print(x / y)\n",
    "y/2 "
   ]
  },
  {
   "cell_type": "code",
   "execution_count": 16,
   "id": "4c0b8762",
   "metadata": {
    "id": "UEOxqwFzYKGH"
   },
   "outputs": [
    {
     "name": "stdout",
     "output_type": "stream",
     "text": [
      "49\n"
     ]
    },
    {
     "data": {
      "text/plain": [
       "49"
      ]
     },
     "execution_count": 16,
     "metadata": {},
     "output_type": "execute_result"
    }
   ],
   "source": [
    "# **\n",
    "print(7**2)\n",
    "y ** x"
   ]
  },
  {
   "cell_type": "code",
   "execution_count": 17,
   "id": "c75db545",
   "metadata": {
    "id": "9creLzaVYOsC"
   },
   "outputs": [
    {
     "data": {
      "text/plain": [
       "3"
      ]
     },
     "execution_count": 17,
     "metadata": {},
     "output_type": "execute_result"
    }
   ],
   "source": [
    "#//\n",
    "y // 2 "
   ]
  },
  {
   "cell_type": "code",
   "execution_count": 18,
   "id": "72272e4f",
   "metadata": {
    "id": "yvaU5vXEYgxl"
   },
   "outputs": [
    {
     "data": {
      "text/plain": [
       "1"
      ]
     },
     "execution_count": 18,
     "metadata": {},
     "output_type": "execute_result"
    }
   ],
   "source": [
    "#% \n",
    "y%2"
   ]
  },
  {
   "cell_type": "markdown",
   "id": "a716ff76",
   "metadata": {},
   "source": [
    "## Booleans"
   ]
  },
  {
   "cell_type": "code",
   "execution_count": 19,
   "id": "f0072660",
   "metadata": {},
   "outputs": [
    {
     "name": "stdout",
     "output_type": "stream",
     "text": [
      "True\n",
      "False\n",
      "False\n"
     ]
    },
    {
     "data": {
      "text/plain": [
       "bool"
      ]
     },
     "execution_count": 19,
     "metadata": {},
     "output_type": "execute_result"
    }
   ],
   "source": [
    "print(x==2)\n",
    "print(x!=2)\n",
    "print(x==3)\n",
    "type(x==2)"
   ]
  },
  {
   "cell_type": "code",
   "execution_count": 20,
   "id": "6237eca4",
   "metadata": {},
   "outputs": [
    {
     "name": "stdout",
     "output_type": "stream",
     "text": [
      "True\n",
      "False\n"
     ]
    }
   ],
   "source": [
    "y = 7\n",
    "print(y>4 or y==5)\n",
    "print(y>10 or y==6)"
   ]
  },
  {
   "cell_type": "code",
   "execution_count": 21,
   "id": "aee7c0ed",
   "metadata": {},
   "outputs": [
    {
     "name": "stdout",
     "output_type": "stream",
     "text": [
      "True\n",
      "False\n"
     ]
    }
   ],
   "source": [
    "print(y > 4 and y == 7)\n",
    "print(y>4 and y ==5)"
   ]
  },
  {
   "cell_type": "markdown",
   "id": "c86409be",
   "metadata": {
    "id": "uC0D56kcSJPc"
   },
   "source": [
    "## Error Codes\n",
    "(...or How I learned to love my mistakes)"
   ]
  },
  {
   "cell_type": "code",
   "execution_count": 22,
   "id": "85c73a82",
   "metadata": {
    "id": "WcThChpOTKIK"
   },
   "outputs": [
    {
     "data": {
      "text/plain": [
       "'the number three'"
      ]
     },
     "execution_count": 22,
     "metadata": {},
     "output_type": "execute_result"
    }
   ],
   "source": [
    "z = \"the number three\"\n",
    "z"
   ]
  },
  {
   "cell_type": "code",
   "execution_count": 23,
   "id": "a04ac3b8",
   "metadata": {
    "id": "-VWc6m6NTOEa"
   },
   "outputs": [
    {
     "data": {
      "text/plain": [
       "str"
      ]
     },
     "execution_count": 23,
     "metadata": {},
     "output_type": "execute_result"
    }
   ],
   "source": [
    "type(z)"
   ]
  },
  {
   "cell_type": "code",
   "execution_count": 24,
   "id": "565b2c8b",
   "metadata": {
    "id": "-SgSDeztS6gS"
   },
   "outputs": [
    {
     "ename": "TypeError",
     "evalue": "unsupported operand type(s) for +: 'int' and 'str'",
     "output_type": "error",
     "traceback": [
      "\u001b[1;31m---------------------------------------------------------------------------\u001b[0m",
      "\u001b[1;31mTypeError\u001b[0m                                 Traceback (most recent call last)",
      "\u001b[1;32mc:\\Users\\uarkh\\Bloomtech-DS\\DS-Unit-1-Sprint-1-Data-Wrangling-and-Storytelling\\module1-intro_to_python\\DS_111_Intro_to_Python.ipynb Cell 36\u001b[0m in \u001b[0;36m<cell line: 2>\u001b[1;34m()\u001b[0m\n\u001b[0;32m      <a href='vscode-notebook-cell:/c%3A/Users/uarkh/Bloomtech-DS/DS-Unit-1-Sprint-1-Data-Wrangling-and-Storytelling/module1-intro_to_python/DS_111_Intro_to_Python.ipynb#X50sZmlsZQ%3D%3D?line=0'>1</a>\u001b[0m \u001b[39m#You're gonna get a lot of errors while you're learning to code, and that's okay!\u001b[39;00m\n\u001b[1;32m----> <a href='vscode-notebook-cell:/c%3A/Users/uarkh/Bloomtech-DS/DS-Unit-1-Sprint-1-Data-Wrangling-and-Storytelling/module1-intro_to_python/DS_111_Intro_to_Python.ipynb#X50sZmlsZQ%3D%3D?line=1'>2</a>\u001b[0m x \u001b[39m+\u001b[39;49m z\n",
      "\u001b[1;31mTypeError\u001b[0m: unsupported operand type(s) for +: 'int' and 'str'"
     ]
    }
   ],
   "source": [
    "#You're gonna get a lot of errors while you're learning to code, and that's okay!\n",
    "x + z\n"
   ]
  },
  {
   "cell_type": "code",
   "execution_count": null,
   "id": "3db0dd1b",
   "metadata": {},
   "outputs": [],
   "source": [
    "((x + y)"
   ]
  },
  {
   "cell_type": "code",
   "execution_count": null,
   "id": "81a376f6",
   "metadata": {},
   "outputs": [],
   "source": [
    "df"
   ]
  },
  {
   "cell_type": "markdown",
   "id": "6b4466bd",
   "metadata": {
    "id": "M3MC-WynR_z1"
   },
   "source": [
    "## Data Types"
   ]
  },
  {
   "cell_type": "code",
   "execution_count": null,
   "id": "b5c6826e",
   "metadata": {
    "id": "T11vOxbsSBk-"
   },
   "outputs": [
    {
     "name": "stdout",
     "output_type": "stream",
     "text": [
      "<class 'int'>\n",
      "<class 'float'>\n",
      "<class 'str'>\n",
      "<class 'str'>\n"
     ]
    }
   ],
   "source": [
    "#integers\n",
    "print(type(9))\n",
    "#floats\n",
    "print(type(9.9))\n",
    "#strings\n",
    "print(type('King'))\n",
    "print(type(\"Hello, Mr.\"))"
   ]
  },
  {
   "cell_type": "markdown",
   "id": "4c9a120c",
   "metadata": {
    "id": "T11vOxbsSBk-"
   },
   "source": [
    "#### Lists\n",
    "Used to store multiple items in a single variable. List items are ordered (indexed), changeable, and allow duplicate values. "
   ]
  },
  {
   "cell_type": "code",
   "execution_count": 2,
   "id": "616b951a",
   "metadata": {},
   "outputs": [
    {
     "data": {
      "text/plain": [
       "['fall', 'winter', 'summer', 'spring']"
      ]
     },
     "execution_count": 2,
     "metadata": {},
     "output_type": "execute_result"
    }
   ],
   "source": [
    "season_list = ['fall', 'winter', 'summer', 'spring']\n",
    "season_list"
   ]
  },
  {
   "cell_type": "code",
   "execution_count": 4,
   "id": "873913a3",
   "metadata": {},
   "outputs": [
    {
     "name": "stdout",
     "output_type": "stream",
     "text": [
      "fallfall\n",
      "winterwinter\n",
      "summersummer\n",
      "springspring\n"
     ]
    }
   ],
   "source": [
    "for i in season_list:\n",
    "    print(i*2)"
   ]
  },
  {
   "cell_type": "code",
   "execution_count": null,
   "id": "b4c68f7d",
   "metadata": {},
   "outputs": [
    {
     "data": {
      "text/plain": [
       "['fall', 'winter', 'summer', 'spring', 'spring']"
      ]
     },
     "execution_count": 24,
     "metadata": {},
     "output_type": "execute_result"
    }
   ],
   "source": [
    "season_list = ['fall', 'winter', 'summer', 'spring', 'spring']\n",
    "season_list"
   ]
  },
  {
   "cell_type": "markdown",
   "id": "1ab4a2f1",
   "metadata": {},
   "source": [
    "#### Sets\n",
    "Sets are unordered, unchangeable and unindexed. "
   ]
  },
  {
   "cell_type": "code",
   "execution_count": null,
   "id": "f52fc965",
   "metadata": {},
   "outputs": [
    {
     "data": {
      "text/plain": [
       "{'fall', 'spring', 'summer', 'winter'}"
      ]
     },
     "execution_count": 25,
     "metadata": {},
     "output_type": "execute_result"
    }
   ],
   "source": [
    "season_set = {'fall', 'winter', 'summer', 'spring'}\n",
    "season_set"
   ]
  },
  {
   "cell_type": "code",
   "execution_count": null,
   "id": "11e5c146",
   "metadata": {},
   "outputs": [
    {
     "data": {
      "text/plain": [
       "{'fall', 'spring', 'summer', 'winter'}"
      ]
     },
     "execution_count": 27,
     "metadata": {},
     "output_type": "execute_result"
    }
   ],
   "source": [
    "season_set = {'summer', 'fall', 'winter',  'spring', 'spring'}\n",
    "\n",
    "season_set"
   ]
  },
  {
   "cell_type": "markdown",
   "id": "147b257b",
   "metadata": {},
   "source": [
    "#### Tuples\n",
    "Tuple items are ordered, unchangeable, and allow duplicate values."
   ]
  },
  {
   "cell_type": "code",
   "execution_count": null,
   "id": "5c5b06a3",
   "metadata": {},
   "outputs": [
    {
     "data": {
      "text/plain": [
       "('fall', 'winter', 'summer', 'spring', 'spring')"
      ]
     },
     "execution_count": 28,
     "metadata": {},
     "output_type": "execute_result"
    }
   ],
   "source": [
    "season_tuple = ('fall', 'winter', 'summer', 'spring', 'spring')\n",
    "season_tuple"
   ]
  },
  {
   "cell_type": "code",
   "execution_count": null,
   "id": "bb93a8fa",
   "metadata": {},
   "outputs": [
    {
     "data": {
      "text/plain": [
       "('fall', 'winter', 'summer', 'spring', 'spring')"
      ]
     },
     "execution_count": 29,
     "metadata": {},
     "output_type": "execute_result"
    }
   ],
   "source": [
    "season_tuple"
   ]
  },
  {
   "cell_type": "markdown",
   "id": "fc042d03",
   "metadata": {},
   "source": [
    "**Tuple Unpacking**"
   ]
  },
  {
   "cell_type": "code",
   "execution_count": null,
   "id": "626ac6d1",
   "metadata": {},
   "outputs": [
    {
     "data": {
      "text/plain": [
       "'fall'"
      ]
     },
     "execution_count": 30,
     "metadata": {},
     "output_type": "execute_result"
    }
   ],
   "source": [
    "season1, season2, season3, season4, season5 = season_tuple\n",
    "season1"
   ]
  },
  {
   "cell_type": "markdown",
   "id": "a15eddf3",
   "metadata": {
    "id": "T11vOxbsSBk-"
   },
   "source": [
    "#### Dictionaries\n",
    "\n",
    "Dictionaries store values in key:value pairs. The are ordered, changeable and do not allow duplicates."
   ]
  },
  {
   "cell_type": "code",
   "execution_count": null,
   "id": "ef36c64f",
   "metadata": {
    "id": "T11vOxbsSBk-"
   },
   "outputs": [],
   "source": [
    "\n",
    "season_dict = {\"winter\" : 'cold', 'summer' : 'hot', 'fall' : 'colorful'}\n",
    "season_dict"
   ]
  },
  {
   "cell_type": "code",
   "execution_count": null,
   "id": "fa951fa6",
   "metadata": {},
   "outputs": [],
   "source": [
    "season_dict = {\"winter\" : 'cold', 'summer' : 'hot', 'fall' : 'colorful', 'summer': 'humid'}\n",
    "season_dict"
   ]
  },
  {
   "cell_type": "markdown",
   "id": "fd236ec6",
   "metadata": {
    "id": "h6dlaFUMZg_j"
   },
   "source": [
    "## Object Methods and How To Use Them\n",
    "Use those keyboard shortcuts! <br>\n",
    "Jupyter Notebook -> Tab after period<br>\n",
    "Colab -> Cursor hover after period"
   ]
  },
  {
   "cell_type": "code",
   "execution_count": null,
   "id": "b482c3cc",
   "metadata": {},
   "outputs": [
    {
     "data": {
      "text/plain": [
       "['fall', 'winter', 'summer', 'spring']"
      ]
     },
     "execution_count": 31,
     "metadata": {},
     "output_type": "execute_result"
    }
   ],
   "source": [
    "#some changes happen in place\n",
    "#pop\n",
    "season_list.pop()#run multiple times and it will keep removing items after every run \n",
    "season_list"
   ]
  },
  {
   "cell_type": "code",
   "execution_count": null,
   "id": "66879b10",
   "metadata": {
    "id": "MaFq4UEdZWBW"
   },
   "outputs": [],
   "source": [
    "#keys\n",
    "print(season_dict.keys())\n",
    "#Values\n",
    "print(season_dict.values())"
   ]
  },
  {
   "cell_type": "code",
   "execution_count": null,
   "id": "cbb7f5d6",
   "metadata": {},
   "outputs": [],
   "source": [
    "#pop\n",
    "season_dict.pop('summer')"
   ]
  },
  {
   "cell_type": "code",
   "execution_count": null,
   "id": "78715f59",
   "metadata": {},
   "outputs": [],
   "source": [
    "\n",
    "#clear\n",
    "season_dict.clear()\n",
    "print(season_dict)"
   ]
  },
  {
   "cell_type": "markdown",
   "id": "22b240e0",
   "metadata": {},
   "source": [
    "## Indexing"
   ]
  },
  {
   "cell_type": "code",
   "execution_count": null,
   "id": "080082e3",
   "metadata": {},
   "outputs": [],
   "source": [
    "season_list[0:-1]"
   ]
  },
  {
   "cell_type": "code",
   "execution_count": null,
   "id": "7e875866",
   "metadata": {},
   "outputs": [],
   "source": [
    "str_obj = \"Hello World\"\n",
    "str_obj[1:10:2]# start/stop/skips"
   ]
  },
  {
   "cell_type": "code",
   "execution_count": null,
   "id": "f2c41baf",
   "metadata": {},
   "outputs": [],
   "source": [
    "print(season_dict)\n",
    "print(season_dict['summer'])"
   ]
  },
  {
   "cell_type": "markdown",
   "id": "b2fa83ab",
   "metadata": {},
   "source": [
    "## Loops"
   ]
  },
  {
   "cell_type": "code",
   "execution_count": null,
   "id": "acfcd571",
   "metadata": {},
   "outputs": [
    {
     "data": {
      "text/plain": [
       "'Fall'"
      ]
     },
     "execution_count": 32,
     "metadata": {},
     "output_type": "execute_result"
    }
   ],
   "source": [
    "\"fall\".capitalize()"
   ]
  },
  {
   "cell_type": "code",
   "execution_count": null,
   "id": "43676f14",
   "metadata": {},
   "outputs": [
    {
     "name": "stdout",
     "output_type": "stream",
     "text": [
      "Fall\n",
      "Spring\n",
      "Summer\n",
      "Winter\n"
     ]
    }
   ],
   "source": [
    "type(season_list[1])\n",
    "\n",
    "season_list.sort()\n",
    "\n",
    "season_list\n",
    "\n",
    "for season in season_list:\n",
    "  print(season.capitalize())"
   ]
  },
  {
   "cell_type": "code",
   "execution_count": null,
   "id": "2bf85b67",
   "metadata": {},
   "outputs": [
    {
     "data": {
      "text/plain": [
       "['Fall', 'Spring', 'Summer', 'Winter']"
      ]
     },
     "execution_count": 35,
     "metadata": {},
     "output_type": "execute_result"
    }
   ],
   "source": [
    "capitalized_season_list = []\n",
    "for season in season_list:\n",
    "  capitalized_season_list.append(season.capitalize())\n",
    "\n",
    "capitalized_season_list"
   ]
  },
  {
   "cell_type": "markdown",
   "id": "d4bf496b",
   "metadata": {},
   "source": [
    "## Conditionals"
   ]
  },
  {
   "cell_type": "code",
   "execution_count": null,
   "id": "55f747e6",
   "metadata": {},
   "outputs": [],
   "source": [
    "y > 8\n",
    "y = 10"
   ]
  },
  {
   "cell_type": "code",
   "execution_count": null,
   "id": "7a35dd0c",
   "metadata": {},
   "outputs": [],
   "source": [
    "if y > 8:\n",
    "  print(\"Y is greater than 8\")\n",
    "else:\n",
    "  print(\"Wrong Try Again\")"
   ]
  },
  {
   "cell_type": "code",
   "execution_count": null,
   "id": "ca05f1b2",
   "metadata": {},
   "outputs": [],
   "source": [
    "if y > 10:\n",
    "  print(\"Y is greater than 10\")\n",
    "elif y < 10:\n",
    "  print(\"Y is less than 10\")  \n",
    "elif y == 10:\n",
    "  print(\"Y is equal to 10\")\n",
    "else:\n",
    "  print(\"Wrong Try Again\")"
   ]
  },
  {
   "cell_type": "code",
   "execution_count": null,
   "id": "216654a2",
   "metadata": {},
   "outputs": [],
   "source": [
    "#create empty lists \n",
    "empty_list = []\n",
    "print(empty_list)"
   ]
  },
  {
   "cell_type": "code",
   "execution_count": null,
   "id": "c67825b1",
   "metadata": {},
   "outputs": [],
   "source": [
    "#create empty lists \n"
   ]
  },
  {
   "cell_type": "markdown",
   "id": "72561135",
   "metadata": {},
   "source": [
    "# Functions"
   ]
  },
  {
   "cell_type": "code",
   "execution_count": null,
   "id": "5dcdb611",
   "metadata": {},
   "outputs": [
    {
     "name": "stdout",
     "output_type": "stream",
     "text": [
      "My value for num1 is 2.\n",
      "My value for num2 is 7.\n"
     ]
    },
    {
     "data": {
      "text/plain": [
       "12"
      ]
     },
     "execution_count": 42,
     "metadata": {},
     "output_type": "execute_result"
    }
   ],
   "source": [
    "def sums_two_values(num1,num2):\n",
    "  print(f\"My value for num1 is {x}.\")\n",
    "  print(f\"My value for num2 is {y}.\")\n",
    "  return num1 + num2\n",
    "\n",
    "sums_two_values(2,10)"
   ]
  },
  {
   "cell_type": "code",
   "execution_count": null,
   "id": "02770b1e",
   "metadata": {},
   "outputs": [],
   "source": []
  },
  {
   "cell_type": "markdown",
   "id": "3767aa2d",
   "metadata": {},
   "source": [
    "## Imports"
   ]
  },
  {
   "cell_type": "code",
   "execution_count": null,
   "id": "81be78ca",
   "metadata": {},
   "outputs": [],
   "source": [
    "#Numpy: package that offers comprehensive mathematical functions. random number generators, linear algebra routines, Fourier transforms, and more.\n",
    "\n",
    "#Pandas: a fast, powerful, flexible and easy to use open source data analysis and manipulation tool, built on top of Python.\n",
    "\n",
    "#Matplotlib: a comprehensive library for creating static animated, and interacive visualizations in Python.\n",
    "\n",
    "#Seaborn is a visualization library\n"
   ]
  },
  {
   "cell_type": "markdown",
   "id": "bcc9d485",
   "metadata": {},
   "source": [
    "The most popular data science libraries are numpy, pandas and matplotlib (for visualizations)"
   ]
  },
  {
   "cell_type": "code",
   "execution_count": 25,
   "id": "5a21459d",
   "metadata": {},
   "outputs": [],
   "source": [
    "import pandas as pd\n",
    "import numpy as np\n",
    "import seaborn as sns\n",
    "import matplotlib.pyplot as plt\n",
    "\n"
   ]
  },
  {
   "cell_type": "code",
   "execution_count": 26,
   "id": "9d89ae9c",
   "metadata": {},
   "outputs": [
    {
     "ename": "AttributeError",
     "evalue": "module 'seaborn' has no attribute 'get_dataset'",
     "output_type": "error",
     "traceback": [
      "\u001b[1;31m---------------------------------------------------------------------------\u001b[0m",
      "\u001b[1;31mAttributeError\u001b[0m                            Traceback (most recent call last)",
      "\u001b[1;32mc:\\Users\\uarkh\\Bloomtech-DS\\DS-Unit-1-Sprint-1-Data-Wrangling-and-Storytelling\\module1-intro_to_python\\DS_111_Intro_to_Python.ipynb Cell 81\u001b[0m in \u001b[0;36m<cell line: 1>\u001b[1;34m()\u001b[0m\n\u001b[1;32m----> <a href='vscode-notebook-cell:/c%3A/Users/uarkh/Bloomtech-DS/DS-Unit-1-Sprint-1-Data-Wrangling-and-Storytelling/module1-intro_to_python/DS_111_Intro_to_Python.ipynb#Y143sZmlsZQ%3D%3D?line=0'>1</a>\u001b[0m sns\u001b[39m.\u001b[39;49mget_dataset()\n\u001b[0;32m      <a href='vscode-notebook-cell:/c%3A/Users/uarkh/Bloomtech-DS/DS-Unit-1-Sprint-1-Data-Wrangling-and-Storytelling/module1-intro_to_python/DS_111_Intro_to_Python.ipynb#Y143sZmlsZQ%3D%3D?line=1'>2</a>\u001b[0m sns\u001b[39m.\u001b[39mload_dataset(\u001b[39m'\u001b[39m\u001b[39mdiamonds\u001b[39m\u001b[39m'\u001b[39m)\n",
      "\u001b[1;31mAttributeError\u001b[0m: module 'seaborn' has no attribute 'get_dataset'"
     ]
    }
   ],
   "source": [
    "sns.get_dataset()\n",
    "sns.load_dataset('diamonds')\n",
    "\n",
    "\n"
   ]
  },
  {
   "cell_type": "code",
   "execution_count": null,
   "id": "196fc5bb",
   "metadata": {},
   "outputs": [
    {
     "data": {
      "text/plain": [
       "array(['The number ten', 'The number ten', 'The number ten',\n",
       "       'The number ten', 'The number ten', 'The number ten',\n",
       "       'The number ten', 'The number ten', 'The number ten',\n",
       "       'The number ten'], dtype='<U14')"
      ]
     },
     "execution_count": 38,
     "metadata": {},
     "output_type": "execute_result"
    }
   ],
   "source": [
    "np.repeat(\"The number ten\", 10)"
   ]
  },
  {
   "cell_type": "code",
   "execution_count": null,
   "id": "1580756e",
   "metadata": {},
   "outputs": [],
   "source": []
  },
  {
   "cell_type": "code",
   "execution_count": null,
   "id": "59b1874c",
   "metadata": {},
   "outputs": [],
   "source": []
  },
  {
   "cell_type": "code",
   "execution_count": null,
   "id": "d2c6693e",
   "metadata": {},
   "outputs": [],
   "source": []
  },
  {
   "cell_type": "code",
   "execution_count": null,
   "id": "4813e8e5",
   "metadata": {},
   "outputs": [],
   "source": []
  }
 ],
 "metadata": {
  "kernelspec": {
   "display_name": "Python 3.9.12 ('base')",
   "language": "python",
   "name": "python3"
  },
  "language_info": {
   "codemirror_mode": {
    "name": "ipython",
    "version": 3
   },
   "file_extension": ".py",
   "mimetype": "text/x-python",
   "name": "python",
   "nbconvert_exporter": "python",
   "pygments_lexer": "ipython3",
   "version": "3.11.3"
  },
  "vscode": {
   "interpreter": {
    "hash": "a587002f0603e67b7f51ba81926a9b4c9ae164ecc5ed388169d23401bf43d0c5"
   }
  }
 },
 "nbformat": 4,
 "nbformat_minor": 5
}
